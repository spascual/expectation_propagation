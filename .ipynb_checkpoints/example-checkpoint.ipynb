{
 "cells": [
  {
   "cell_type": "markdown",
   "metadata": {},
   "source": [
    "## Ranking through pairwise comparison:\n",
    "Using TrueSkill a.k.a belief propagation based EP"
   ]
  },
  {
   "cell_type": "markdown",
   "metadata": {},
   "source": [
    "### Basic implementation of EP loop"
   ]
  },
  {
   "cell_type": "code",
   "execution_count": 11,
   "metadata": {},
   "outputs": [],
   "source": [
    "import numpy as np\n",
    "from games_players import PlayerList, GameList\n",
    "from basic_ep import BasicEPLoop\n"
   ]
  },
  {
   "cell_type": "markdown",
   "metadata": {},
   "source": [
    "Load games /players from csv files and initialize their sufficient statistics"
   ]
  },
  {
   "cell_type": "code",
   "execution_count": 12,
   "metadata": {},
   "outputs": [],
   "source": [
    "players = PlayerList.create_from_csv('data/players.csv')\n",
    "games = GameList.create_from_csv('data/games.csv')"
   ]
  },
  {
   "cell_type": "markdown",
   "metadata": {},
   "source": [
    "Expectation Propagation procedure for enough iterations that player's skill statistics converge"
   ]
  },
  {
   "cell_type": "code",
   "execution_count": null,
   "metadata": {},
   "outputs": [
    {
     "name": "stdout",
     "output_type": "stream",
     "text": [
      "#### EP iteration #15 completed #### time elapsed 16.95530915260315\n"
     ]
    }
   ],
   "source": [
    "ep = BasicEPLoop(players, games)\n",
    "ep.run(60)"
   ]
  },
  {
   "cell_type": "markdown",
   "metadata": {},
   "source": [
    "Display a ranking of the players based on their `skill`"
   ]
  },
  {
   "cell_type": "code",
   "execution_count": null,
   "metadata": {},
   "outputs": [],
   "source": [
    "ep.produce_ranking()"
   ]
  },
  {
   "cell_type": "markdown",
   "metadata": {},
   "source": [
    "Simulate a few games between players:"
   ]
  },
  {
   "cell_type": "code",
   "execution_count": null,
   "metadata": {},
   "outputs": [],
   "source": [
    "for player_1 in range(5): \n",
    "    for player_2 in range(5): \n",
    "        if player_1 != player_2: \n",
    "            ep.simulate_game(player_1, player_2)"
   ]
  },
  {
   "cell_type": "markdown",
   "metadata": {},
   "source": [
    "## Repeat all the above but faster using a Vectorised EP"
   ]
  },
  {
   "cell_type": "code",
   "execution_count": null,
   "metadata": {},
   "outputs": [],
   "source": [
    "from matrix_stats import PlayerStats, GameStats, WinLossHistory, GameStatsFactory, \\\n",
    "    PlayerStatsFactory\n",
    "from matrix_ep import MatrixEPLoop\n"
   ]
  },
  {
   "cell_type": "markdown",
   "metadata": {},
   "source": [
    "Load games /players from csv files and initialize their sufficient statistics"
   ]
  },
  {
   "cell_type": "code",
   "execution_count": null,
   "metadata": {},
   "outputs": [],
   "source": [
    "player_stats, player_names = PlayerStatsFactory.create_from_csv('data/players.csv')\n",
    "game_stats, history = GameStatsFactory.create_from_csv('data/games.csv')"
   ]
  },
  {
   "cell_type": "markdown",
   "metadata": {},
   "source": [
    "Expectation Propagation procedure for enough iterations that player's skill statistics converge"
   ]
  },
  {
   "cell_type": "code",
   "execution_count": null,
   "metadata": {},
   "outputs": [],
   "source": [
    "matrix_ep = MatrixEPLoop(player_stats, game_stats, history, player_names)\n",
    "matrix_ep.run(100)"
   ]
  },
  {
   "cell_type": "markdown",
   "metadata": {},
   "source": [
    "Display a ranking of the players based on their `skill`"
   ]
  },
  {
   "cell_type": "code",
   "execution_count": null,
   "metadata": {},
   "outputs": [],
   "source": [
    "matrix_ep.produce_ranking()"
   ]
  },
  {
   "cell_type": "markdown",
   "metadata": {},
   "source": [
    "Simulate a few games between players:"
   ]
  },
  {
   "cell_type": "code",
   "execution_count": null,
   "metadata": {},
   "outputs": [],
   "source": [
    "for player_1 in range(5): \n",
    "    for player_2 in range(5): \n",
    "        if player_1 != player_2: \n",
    "            matrix_ep.simulate_game(player_1, player_2)"
   ]
  }
 ],
 "metadata": {
  "kernelspec": {
   "display_name": "optimal-flow-venv",
   "language": "python",
   "name": "optimal-flow-venv"
  },
  "language_info": {
   "codemirror_mode": {
    "name": "ipython",
    "version": 3
   },
   "file_extension": ".py",
   "mimetype": "text/x-python",
   "name": "python",
   "nbconvert_exporter": "python",
   "pygments_lexer": "ipython3",
   "version": "3.7.4"
  }
 },
 "nbformat": 4,
 "nbformat_minor": 4
}
