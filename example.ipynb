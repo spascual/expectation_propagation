{
 "cells": [
  {
   "cell_type": "markdown",
   "metadata": {},
   "source": [
    "## Ranking through pairwise comparison:\n",
    "Using TrueSkill a.k.a belief propagation based EP"
   ]
  },
  {
   "cell_type": "markdown",
   "metadata": {},
   "source": [
    "### Basic implementation of EP loop"
   ]
  },
  {
   "cell_type": "code",
   "execution_count": 21,
   "metadata": {},
   "outputs": [],
   "source": [
    "import numpy as np\n",
    "from true_skill.games_players import PlayerList, GameList\n",
    "from true_skill.basic_ep import BasicEPLoop\n"
   ]
  },
  {
   "cell_type": "markdown",
   "metadata": {},
   "source": [
    "Load games /players from csv files and initialize their sufficient statistics"
   ]
  },
  {
   "cell_type": "code",
   "execution_count": 23,
   "metadata": {},
   "outputs": [],
   "source": [
    "players = PlayerList.create_from_csv('../data/players.csv')\n",
    "games = GameList.create_from_csv('../data/games.csv')"
   ]
  },
  {
   "cell_type": "markdown",
   "metadata": {},
   "source": [
    "Expectation Propagation procedure for enough iterations that player's skill statistics converge"
   ]
  },
  {
   "cell_type": "code",
   "execution_count": 13,
   "metadata": {},
   "outputs": [
    {
     "name": "stdout",
     "output_type": "stream",
     "text": [
      "#### EP iteration #15 completed #### time elapsed 16.95530915260315\n",
      "#### EP iteration #30 completed #### time elapsed 34.540651082992554\n",
      "#### EP iteration #45 completed #### time elapsed 50.70307421684265\n",
      "#### EP iteration #60 completed #### time elapsed 67.79002022743225\n"
     ]
    }
   ],
   "source": [
    "ep = BasicEPLoop(players, games)\n",
    "ep.run(60)"
   ]
  },
  {
   "cell_type": "markdown",
   "metadata": {},
   "source": [
    "Display a ranking of the players based on their `skill`"
   ]
  },
  {
   "cell_type": "code",
   "execution_count": 14,
   "metadata": {},
   "outputs": [
    {
     "name": "stdout",
     "output_type": "stream",
     "text": [
      "Position #1: Novak-Djokovic\n",
      "Position #2: Roger-Federer\n",
      "Position #3: Rafael-Nadal\n",
      "Position #4: Andy-Murray\n",
      "Position #5: Robin-Soderling\n",
      "Position #6: David-Ferrer\n",
      "Position #7: Jo-Wilfried-Tsonga\n",
      "Position #8: Tomas-Berdych\n",
      "Position #9: Juan-Martin-Del-Potro\n",
      "Position #10: Richard-Gasquet\n"
     ]
    }
   ],
   "source": [
    "ep.produce_ranking()"
   ]
  },
  {
   "cell_type": "markdown",
   "metadata": {},
   "source": [
    "Simulate a few games between players:"
   ]
  },
  {
   "cell_type": "code",
   "execution_count": 15,
   "metadata": {},
   "outputs": [
    {
     "name": "stdout",
     "output_type": "stream",
     "text": [
      "Rafael-Nadal beated Juan-Monaco\n",
      "Juan-Martin-Del-Potro beated Rafael-Nadal\n",
      "Rafael-Nadal beated Mardy-Fish\n",
      "Roger-Federer beated Rafael-Nadal\n",
      "Rafael-Nadal beated Juan-Monaco\n",
      "Juan-Martin-Del-Potro beated Juan-Monaco\n",
      "Juan-Monaco beated Mardy-Fish\n",
      "Roger-Federer beated Juan-Monaco\n",
      "Rafael-Nadal beated Juan-Martin-Del-Potro\n",
      "Juan-Martin-Del-Potro beated Juan-Monaco\n",
      "Juan-Martin-Del-Potro beated Mardy-Fish\n",
      "Roger-Federer beated Juan-Martin-Del-Potro\n",
      "Rafael-Nadal beated Mardy-Fish\n",
      "Juan-Monaco beated Mardy-Fish\n",
      "Mardy-Fish beated Juan-Martin-Del-Potro\n",
      "Mardy-Fish beated Roger-Federer\n",
      "Roger-Federer beated Rafael-Nadal\n",
      "Roger-Federer beated Juan-Monaco\n",
      "Roger-Federer beated Juan-Martin-Del-Potro\n",
      "Roger-Federer beated Mardy-Fish\n"
     ]
    }
   ],
   "source": [
    "for player_1 in range(5): \n",
    "    for player_2 in range(5): \n",
    "        if player_1 != player_2: \n",
    "            ep.simulate_game(player_1, player_2)"
   ]
  },
  {
   "cell_type": "markdown",
   "metadata": {},
   "source": [
    "## Repeat all the above but faster using a Vectorised EP"
   ]
  },
  {
   "cell_type": "code",
   "execution_count": 24,
   "metadata": {},
   "outputs": [],
   "source": [
    "from true_skill.matrix_stats import PlayerStats, GameStats, WinLossHistory, GameStatsFactory, \\\n",
    "    PlayerStatsFactory\n",
    "from true_skill.matrix_ep import MatrixEPLoop\n"
   ]
  },
  {
   "cell_type": "markdown",
   "metadata": {},
   "source": [
    "Load games /players from csv files and initialize their sufficient statistics"
   ]
  },
  {
   "cell_type": "code",
   "execution_count": 25,
   "metadata": {},
   "outputs": [],
   "source": [
    "player_stats, player_names = PlayerStatsFactory.create_from_csv('../data/players.csv')\n",
    "game_stats, history = GameStatsFactory.create_from_csv('../data/games.csv')"
   ]
  },
  {
   "cell_type": "markdown",
   "metadata": {},
   "source": [
    "Expectation Propagation procedure for enough iterations that player's skill statistics converge"
   ]
  },
  {
   "cell_type": "code",
   "execution_count": 26,
   "metadata": {},
   "outputs": [
    {
     "name": "stdout",
     "output_type": "stream",
     "text": [
      "#### EP iteration #50 completed #### time elapsed 0.5353262424468994\n",
      "#### EP iteration #100 completed #### time elapsed 1.0137641429901123\n"
     ]
    }
   ],
   "source": [
    "matrix_ep = MatrixEPLoop(player_stats, game_stats, history, player_names)\n",
    "matrix_ep.run(100)"
   ]
  },
  {
   "cell_type": "markdown",
   "metadata": {},
   "source": [
    "Display a ranking of the players based on their `skill`"
   ]
  },
  {
   "cell_type": "code",
   "execution_count": 27,
   "metadata": {},
   "outputs": [
    {
     "name": "stdout",
     "output_type": "stream",
     "text": [
      "Position #1: Novak-Djokovic\n",
      "Position #2: Roger-Federer\n",
      "Position #3: Rafael-Nadal\n",
      "Position #4: Andy-Murray\n",
      "Position #5: Robin-Soderling\n",
      "Position #6: David-Ferrer\n",
      "Position #7: Tomas-Berdych\n",
      "Position #8: Juan-Carlos-Ferrero\n",
      "Position #9: Marc-Lopez\n",
      "Position #10: Juan-Martin-Del-Potro\n"
     ]
    }
   ],
   "source": [
    "matrix_ep.produce_ranking()"
   ]
  },
  {
   "cell_type": "markdown",
   "metadata": {},
   "source": [
    "Simulate a few games between players:"
   ]
  },
  {
   "cell_type": "code",
   "execution_count": 28,
   "metadata": {},
   "outputs": [
    {
     "name": "stdout",
     "output_type": "stream",
     "text": [
      "Rafael-Nadal beated Juan-Monaco\n",
      "Rafael-Nadal beated Juan-Martin-Del-Potro\n",
      "Rafael-Nadal beated Mardy-Fish\n",
      "Roger-Federer beated Rafael-Nadal\n",
      "Rafael-Nadal beated Juan-Monaco\n",
      "Juan-Martin-Del-Potro beated Juan-Monaco\n",
      "Mardy-Fish beated Juan-Monaco\n",
      "Roger-Federer beated Juan-Monaco\n",
      "Rafael-Nadal beated Juan-Martin-Del-Potro\n",
      "Juan-Martin-Del-Potro beated Juan-Monaco\n",
      "Juan-Martin-Del-Potro beated Mardy-Fish\n",
      "Roger-Federer beated Juan-Martin-Del-Potro\n",
      "Mardy-Fish beated Rafael-Nadal\n",
      "Mardy-Fish beated Juan-Monaco\n",
      "Juan-Martin-Del-Potro beated Mardy-Fish\n",
      "Roger-Federer beated Mardy-Fish\n",
      "Roger-Federer beated Rafael-Nadal\n",
      "Roger-Federer beated Juan-Monaco\n",
      "Juan-Martin-Del-Potro beated Roger-Federer\n",
      "Roger-Federer beated Mardy-Fish\n"
     ]
    }
   ],
   "source": [
    "for player_1 in range(5): \n",
    "    for player_2 in range(5): \n",
    "        if player_1 != player_2: \n",
    "            matrix_ep.simulate_game(player_1, player_2)"
   ]
  }
 ],
 "metadata": {
  "kernelspec": {
   "display_name": "optimal-flow-venv",
   "language": "python",
   "name": "optimal-flow-venv"
  },
  "language_info": {
   "codemirror_mode": {
    "name": "ipython",
    "version": 3
   },
   "file_extension": ".py",
   "mimetype": "text/x-python",
   "name": "python",
   "nbconvert_exporter": "python",
   "pygments_lexer": "ipython3",
   "version": "3.7.4"
  }
 },
 "nbformat": 4,
 "nbformat_minor": 4
}
